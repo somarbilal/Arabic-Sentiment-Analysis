{
  "cells": [
    {
      "cell_type": "markdown",
      "metadata": {
        "id": "view-in-github",
        "colab_type": "text"
      },
      "source": [
        "<a href=\"https://colab.research.google.com/github/somarbilal/Arabic-Sentiment-Analysis/blob/main/Text_Classification_Arabic_Sentiment_Analysis.ipynb\" target=\"_parent\"><img src=\"https://colab.research.google.com/assets/colab-badge.svg\" alt=\"Open In Colab\"/></a>"
      ]
    },
    {
      "cell_type": "code",
      "execution_count": null,
      "metadata": {
        "id": "XIHGeClQjHIH"
      },
      "outputs": [],
      "source": [
        "import numpy as np\n",
        "import pandas as pd\n",
        "import csv\n",
        "import re\n",
        "from nltk.tokenize import word_tokenize\n",
        "from nltk.stem.isri import ISRIStemmer\n",
        "import itertools\n",
        "from pandas import DataFrame\n",
        "import sklearn\n",
        "from sklearn.feature_extraction.text import TfidfVectorizer\n",
        "#from sklearn import cross_validation\n",
        "from sklearn.model_selection import train_test_split\n",
        "from sklearn.model_selection import cross_val_predict\n",
        "from sklearn.model_selection import cross_val_score\n",
        "from sklearn.metrics import classification_report\n",
        "from sklearn.naive_bayes import MultinomialNB, GaussianNB, BernoulliNB\n",
        "from sklearn.linear_model import LogisticRegression, SGDClassifier\n",
        "from sklearn.svm import SVC, LinearSVC, NuSVC"
      ]
    },
    {
      "cell_type": "code",
      "execution_count": null,
      "metadata": {
        "id": "1CUzHQk1jHIP"
      },
      "outputs": [],
      "source": [
        "files = pd.read_csv(\"https://raw.githubusercontent.com/hadyelsahar/large-arabic-sentiment-analysis-resouces/a59d0a2ea9061483935309799904e8bfec0e8c57/datasets/RES1.csv\")"
      ]
    },
    {
      "cell_type": "code",
      "execution_count": null,
      "metadata": {
        "colab": {
          "base_uri": "https://localhost:8080/"
        },
        "id": "GsshIS9BjHIQ",
        "outputId": "5ff0d85a-eb5a-4a4f-cccd-9cfe22548d94"
      },
      "outputs": [
        {
          "output_type": "stream",
          "name": "stdout",
          "text": [
            "      polarity                                               text  \\\n",
            "0           -1  اولا: المنيو تغير الشورما اصبحت اعتياديه بأختف...   \n",
            "1           -1  من محلات الشاورما ذات الشعبيه لتميز الصلصات ال...   \n",
            "2            1  دجاج طازج يحضر امامك على الطلب لا يقوم باعدة ا...   \n",
            "3            1  فكما تعرف أستراليا بالكنغر والكوالا. فإنها تعر...   \n",
            "4           -1  إسمحو لي أن أقيم مطعم هاشم بصفتي فلسطيني عشت ف...   \n",
            "...        ...                                                ...   \n",
            "8359         1  أتمنى تعملو بطاقات خاصة أو ذهبية للعملاء الدائ...   \n",
            "8360         1  المشويات عندهم اطيب مشويات اكلتها بحياتي والاس...   \n",
            "8361         1  المطعم ممتاز للغايه ، من ناحيه تجهيزات المطعم ...   \n",
            "8362        -1  جينا عندهم الساعة 10 بالليل مافى احد اتبرع يشو...   \n",
            "8363         1  اذا كان اللي بالشارع التجاري اوووه ماشاء الله ...   \n",
            "\n",
            "      restaurant_id  user_id  \n",
            "0               296      423  \n",
            "1               296      423  \n",
            "2              5027    39580  \n",
            "3               642      444  \n",
            "4               434     2191  \n",
            "...             ...      ...  \n",
            "8359           4990    39151  \n",
            "8360           4990    34712  \n",
            "8361           1050     2284  \n",
            "8362           3243     4598  \n",
            "8363           1458    26736  \n",
            "\n",
            "[8364 rows x 4 columns]\n"
          ]
        }
      ],
      "source": [
        "print(files)"
      ]
    },
    {
      "cell_type": "code",
      "execution_count": null,
      "metadata": {
        "colab": {
          "base_uri": "https://localhost:8080/"
        },
        "id": "I8p1kvAWjHIR",
        "outputId": "6d7cae25-79a4-4068-f279-be191c8ccc41"
      },
      "outputs": [
        {
          "output_type": "stream",
          "name": "stdout",
          "text": [
            "   polarity                                               text  restaurant_id  \\\n",
            "0        -1  اولا: المنيو تغير الشورما اصبحت اعتياديه بأختف...            296   \n",
            "1        -1  من محلات الشاورما ذات الشعبيه لتميز الصلصات ال...            296   \n",
            "2         1  دجاج طازج يحضر امامك على الطلب لا يقوم باعدة ا...           5027   \n",
            "3         1  فكما تعرف أستراليا بالكنغر والكوالا. فإنها تعر...            642   \n",
            "4        -1  إسمحو لي أن أقيم مطعم هاشم بصفتي فلسطيني عشت ف...            434   \n",
            "\n",
            "   user_id  \n",
            "0      423  \n",
            "1      423  \n",
            "2    39580  \n",
            "3      444  \n",
            "4     2191  \n"
          ]
        }
      ],
      "source": [
        "print(files.head())"
      ]
    },
    {
      "cell_type": "code",
      "execution_count": null,
      "metadata": {
        "id": "-Fv1X77ajHIR"
      },
      "outputs": [],
      "source": [
        "df=pd.read_csv(\"https://raw.githubusercontent.com/hadyelsahar/large-arabic-sentiment-analysis-resouces/a59d0a2ea9061483935309799904e8bfec0e8c57/datasets/RES1.csv\")\n",
        "del df['user_id']\n",
        "del df['restaurant_id']\n",
        "        \n",
        "df.to_csv('newwwwwwww.csv')\n"
      ]
    },
    {
      "cell_type": "code",
      "execution_count": null,
      "metadata": {
        "colab": {
          "base_uri": "https://localhost:8080/"
        },
        "id": "irUkOKnfjHIS",
        "outputId": "14fe1dea-2e7a-4aeb-a44c-d7b0912fd36a"
      },
      "outputs": [
        {
          "output_type": "execute_result",
          "data": {
            "text/plain": [
              "Index(['polarity', 'text'], dtype='object')"
            ]
          },
          "metadata": {},
          "execution_count": 6
        }
      ],
      "source": [
        "df.keys()"
      ]
    },
    {
      "cell_type": "code",
      "execution_count": null,
      "metadata": {
        "colab": {
          "base_uri": "https://localhost:8080/"
        },
        "id": "9AErKFY4jHIT",
        "outputId": "4d44a2c1-a251-4dc1-9776-97837e1e541a"
      },
      "outputs": [
        {
          "output_type": "stream",
          "name": "stdout",
          "text": [
            "   polarity                                               text\n",
            "0        -1  اولا: المنيو تغير الشورما اصبحت اعتياديه بأختف...\n",
            "1        -1  من محلات الشاورما ذات الشعبيه لتميز الصلصات ال...\n",
            "2         1  دجاج طازج يحضر امامك على الطلب لا يقوم باعدة ا...\n",
            "3         1  فكما تعرف أستراليا بالكنغر والكوالا. فإنها تعر...\n",
            "4        -1  إسمحو لي أن أقيم مطعم هاشم بصفتي فلسطيني عشت ف...\n"
          ]
        }
      ],
      "source": [
        "print(df.head())"
      ]
    },
    {
      "cell_type": "code",
      "execution_count": null,
      "metadata": {
        "colab": {
          "base_uri": "https://localhost:8080/"
        },
        "id": "TlvmSq-yjHIT",
        "outputId": "9a896fed-b8aa-43a8-ad7b-781d74298c78"
      },
      "outputs": [
        {
          "output_type": "stream",
          "name": "stdout",
          "text": [
            "      polarity                                               text\n",
            "0           -1  اولا: المنيو تغير الشورما اصبحت اعتياديه بأختف...\n",
            "1           -1  من محلات الشاورما ذات الشعبيه لتميز الصلصات ال...\n",
            "2            1  دجاج طازج يحضر امامك على الطلب لا يقوم باعدة ا...\n",
            "3            1  فكما تعرف أستراليا بالكنغر والكوالا. فإنها تعر...\n",
            "4           -1  إسمحو لي أن أقيم مطعم هاشم بصفتي فلسطيني عشت ف...\n",
            "...        ...                                                ...\n",
            "8359         1  أتمنى تعملو بطاقات خاصة أو ذهبية للعملاء الدائ...\n",
            "8360         1  المشويات عندهم اطيب مشويات اكلتها بحياتي والاس...\n",
            "8361         1  المطعم ممتاز للغايه ، من ناحيه تجهيزات المطعم ...\n",
            "8362        -1  جينا عندهم الساعة 10 بالليل مافى احد اتبرع يشو...\n",
            "8363         1  اذا كان اللي بالشارع التجاري اوووه ماشاء الله ...\n",
            "\n",
            "[8364 rows x 2 columns]\n"
          ]
        }
      ],
      "source": [
        "print(df)"
      ]
    },
    {
      "cell_type": "markdown",
      "metadata": {
        "id": "RMq7cza8jHIU"
      },
      "source": [
        "#preprocessing"
      ]
    },
    {
      "cell_type": "code",
      "execution_count": null,
      "metadata": {
        "id": "J03fO433jHIW"
      },
      "outputs": [],
      "source": [
        "def normalize(text):\n",
        "    text = re.sub(\"[إأٱآا]\", \"ا\", text)\n",
        "    text = re.sub(\"ى\", \"ي\", text)\n",
        "    text = re.sub(\"ؤ\", \"ء\", text)\n",
        "    text = re.sub(\"ئ\", \"ء\", text)\n",
        "    \n",
        "    noise = re.compile(\"\"\" ّ    | # Tashdid\n",
        "                             َ    | # Fatha\n",
        "                             ً    | # Tanwin Fath\n",
        "                             ُ    | # Damma\n",
        "                             ٌ    | # Tanwin Damm\n",
        "                             ِ    | # Kasra\n",
        "                             ٍ    | # Tanwin Kasr\n",
        "                             ْ    | # Sukun\n",
        "                             ـ     # Tatwil/Kashida\n",
        "                         \"\"\", re.VERBOSE)\n",
        " \n",
        "    text = re.sub(noise, '', text)\n",
        "    text = ''.join(char for char, _ in itertools.groupby(text))#منع تكرار الأحرف\n",
        "    return text"
      ]
    },
    {
      "cell_type": "code",
      "execution_count": null,
      "metadata": {
        "colab": {
          "base_uri": "https://localhost:8080/"
        },
        "id": "oMssD5qijHIY",
        "outputId": "455540f9-9e0e-4949-a6e0-4c9f796720f1"
      },
      "outputs": [
        {
          "output_type": "stream",
          "name": "stdout",
          "text": [
            "خيبت ظني 💔 🔕\n"
          ]
        }
      ],
      "source": [
        "print(normalize(\"خيبت ظني ّ💔 🔕\"))"
      ]
    },
    {
      "cell_type": "code",
      "execution_count": null,
      "metadata": {
        "id": "EgpwPW-2jHIY"
      },
      "outputs": [],
      "source": [
        "def remove_emoji(text):\n",
        "    emoji_pattern = re.compile(\"[\"\n",
        "                           u\"\\U0001F600-\\U0001F64F\"  # emoticons\n",
        "                           u\"\\U0001F300-\\U0001F5FF\"  # symbols & pictographs\n",
        "                           u\"\\U0001F680-\\U0001F6FF\"  # transport & map symbols\n",
        "                           u\"\\U0001F1E0-\\U0001F1FF\"  # flags (iOS)\n",
        "                           u\"\\U00002702-\\U000027B0\"\n",
        "                           u\"\\U000024C2-\\U0001F251\"\n",
        "                           \"]+\", flags=re.UNICODE)\n",
        "    #print (text)\n",
        "    text= emoji_pattern.sub(r'', text)\n",
        "    text = ''.join(char for char, _ in itertools.groupby(text))#remove white space\n",
        "    return text"
      ]
    },
    {
      "cell_type": "code",
      "execution_count": null,
      "metadata": {
        "colab": {
          "base_uri": "https://localhost:8080/"
        },
        "id": "dgMu9nhDjHIZ",
        "outputId": "17d334a7-67fa-45cf-a909-27a1091d9ffd"
      },
      "outputs": [
        {
          "output_type": "stream",
          "name": "stdout",
          "text": [
            "كم رفنآ آس فيھآ ۆفآء .\n"
          ]
        }
      ],
      "source": [
        "print(remove_emoji(\"كم ﻋرفنآ ﻧآس ﻣﺂفيھآ ۆفآء 💔 🔕💔 🔕💔 🔕..\"))"
      ]
    },
    {
      "cell_type": "markdown",
      "source": [
        "**STOP WORD REMOVE**"
      ],
      "metadata": {
        "id": "WBKw8rryuALW"
      }
    },
    {
      "cell_type": "code",
      "source": [
        "from google.colab import files\n",
        "uploaded = files.upload()"
      ],
      "metadata": {
        "colab": {
          "resources": {
            "http://localhost:8080/nbextensions/google.colab/files.js": {
              "data": "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",
              "ok": true,
              "headers": [
                [
                  "content-type",
                  "application/javascript"
                ]
              ],
              "status": 200,
              "status_text": ""
            }
          },
          "base_uri": "https://localhost:8080/",
          "height": 74
        },
        "id": "iU_Uk82tvXgA",
        "outputId": "c1073428-fbaf-476a-87bf-21fdd25e8a84"
      },
      "execution_count": null,
      "outputs": [
        {
          "output_type": "display_data",
          "data": {
            "text/plain": [
              "<IPython.core.display.HTML object>"
            ],
            "text/html": [
              "\n",
              "     <input type=\"file\" id=\"files-5be0e7ac-fa7b-45d3-863b-a5f9adc90dd1\" name=\"files[]\" multiple disabled\n",
              "        style=\"border:none\" />\n",
              "     <output id=\"result-5be0e7ac-fa7b-45d3-863b-a5f9adc90dd1\">\n",
              "      Upload widget is only available when the cell has been executed in the\n",
              "      current browser session. Please rerun this cell to enable.\n",
              "      </output>\n",
              "      <script src=\"/nbextensions/google.colab/files.js\"></script> "
            ]
          },
          "metadata": {}
        },
        {
          "output_type": "stream",
          "name": "stdout",
          "text": [
            "Saving ar_stop_word_list.txt to ar_stop_word_list (1).txt\n"
          ]
        }
      ]
    },
    {
      "cell_type": "code",
      "source": [
        "import nltk\n",
        "nltk.download('punkt')"
      ],
      "metadata": {
        "colab": {
          "base_uri": "https://localhost:8080/"
        },
        "id": "rdvzAbtCvvnI",
        "outputId": "fc0520d2-fd03-491a-f14e-7e15e4af44e7"
      },
      "execution_count": null,
      "outputs": [
        {
          "output_type": "stream",
          "name": "stdout",
          "text": [
            "[nltk_data] Downloading package punkt to /root/nltk_data...\n",
            "[nltk_data]   Unzipping tokenizers/punkt.zip.\n"
          ]
        },
        {
          "output_type": "execute_result",
          "data": {
            "text/plain": [
              "True"
            ]
          },
          "metadata": {},
          "execution_count": 19
        }
      ]
    },
    {
      "cell_type": "code",
      "execution_count": null,
      "metadata": {
        "id": "7zC6yS-EjHIc"
      },
      "outputs": [],
      "source": [
        "def StopWordRemove(text):\n",
        "    ar_stop_list=open(\"ar_stop_word_list.txt\",\"r\",encoding='utf-8')\n",
        "    stop_words=ar_stop_list.read().split('\\n')\n",
        "    needed_words=[]\n",
        "    words=word_tokenize(text)\n",
        "    for w in words:\n",
        "        if w not in (stop_words):\n",
        "            needed_words.append(w)\n",
        "    filtered_sentence=\" \".join(needed_words)\n",
        "    return filtered_sentence"
      ]
    },
    {
      "cell_type": "code",
      "execution_count": null,
      "metadata": {
        "colab": {
          "base_uri": "https://localhost:8080/"
        },
        "id": "aPLnfazLjHIc",
        "outputId": "dd57f294-255d-4bee-95da-a5b774af79b5"
      },
      "outputs": [
        {
          "output_type": "stream",
          "name": "stdout",
          "text": [
            "الرجل شأن عظيم\n"
          ]
        }
      ],
      "source": [
        "print(StopWordRemove(\" هذا الرجل ذو شأن عظيم\"))"
      ]
    },
    {
      "cell_type": "markdown",
      "source": [
        "**stemming**"
      ],
      "metadata": {
        "id": "gBYaSKYuuGYu"
      }
    },
    {
      "cell_type": "code",
      "execution_count": null,
      "metadata": {
        "id": "Qkwf_Lm_jHId"
      },
      "outputs": [],
      "source": [
        "def stemming(text):\n",
        "    st= ISRIStemmer()\n",
        "    stemmed_words=[]\n",
        "    words=word_tokenize(text)\n",
        "    for w in words:\n",
        "        stemmed_words.append(st.stem(w))\n",
        "    stemmed_sentence=\" \".join(stemmed_words)\n",
        "    return stemmed_sentence\n",
        "        "
      ]
    },
    {
      "cell_type": "code",
      "execution_count": null,
      "metadata": {
        "colab": {
          "base_uri": "https://localhost:8080/"
        },
        "id": "N1U7iiPbjHId",
        "outputId": "b3ba952a-129f-420a-8170-ddb5ff44c5c9"
      },
      "outputs": [
        {
          "output_type": "stream",
          "name": "stdout",
          "text": [
            "بسم الل رحم رحم\n"
          ]
        }
      ],
      "source": [
        "print(stemming(\"بسم الله الرحمن الرحيم\"))"
      ]
    },
    {
      "cell_type": "code",
      "execution_count": null,
      "metadata": {
        "id": "JED81k7EjHIe"
      },
      "outputs": [],
      "source": [
        "def prepareDatasets(df):\n",
        "    sentences=[]\n",
        "    for index, r in df.iterrows():\n",
        "        text=StopWordRemove(r['text'])\n",
        "        text=normalize(r['text'])\n",
        "        text=stemming(r['text'])\n",
        "        \n",
        "        if r['polarity']==-1:\n",
        "            sentences.append([text,'neg'])\n",
        "        else:\n",
        "            sentences.append([text,'pos'])\n",
        "            \n",
        "    df_sentences=DataFrame(sentences, columns=['text','polarity'])\n",
        "    return df_sentences"
      ]
    },
    {
      "cell_type": "code",
      "execution_count": null,
      "metadata": {
        "id": "-SMF_GvnjHIe"
      },
      "outputs": [],
      "source": [
        "preprocessed_reviews=prepareDatasets(df)"
      ]
    },
    {
      "cell_type": "code",
      "execution_count": null,
      "metadata": {
        "colab": {
          "base_uri": "https://localhost:8080/",
          "height": 423
        },
        "id": "6kwg814pjHIf",
        "outputId": "31d2de75-8d40-4575-fd98-200f3c1d1b23"
      },
      "outputs": [
        {
          "output_type": "execute_result",
          "data": {
            "text/plain": [
              "                                                   text polarity\n",
              "0     اول : نيو تغر شور صبح اعتياديه أختفاء صلص خير ...      neg\n",
              "1     من محل شور ذات شعب تمز صلص قدم عها يمكن خير شو...      neg\n",
              "2     دجج طزج حضر ممك على طلب لا يقم بعد تسخ تخذ بشر...      pos\n",
              "3     فكم عرف رال كنغر كلا . فإن عرف ايض أكل مثل فيج...      pos\n",
              "4     محو لي ان اقم طعم هشم بصف لسط عشت في ارد 24 عا...      neg\n",
              "...                                                 ...      ...\n",
              "8359  منى عملو بطق خصة او ذهب عملاء دئم يكون لهم وضع...      pos\n",
              "8360  شوي عند اطب شوي اكل بحا قبل مرة حلو نظافةةةةةة...      pos\n",
              "8361  طعم متز غيه ، من نحي جهز طعم ، ويض من نحي أكل ...      pos\n",
              "8362  جين عند سعة 10 ليل افى احد برع شوفل طال فضي جل...      neg\n",
              "8363        اذا كان الل شرع جري اوو اشء الل ولل انه خبل      pos\n",
              "\n",
              "[8364 rows x 2 columns]"
            ],
            "text/html": [
              "\n",
              "  <div id=\"df-79bf498f-024b-467d-b9cb-2c8062fb2fec\">\n",
              "    <div class=\"colab-df-container\">\n",
              "      <div>\n",
              "<style scoped>\n",
              "    .dataframe tbody tr th:only-of-type {\n",
              "        vertical-align: middle;\n",
              "    }\n",
              "\n",
              "    .dataframe tbody tr th {\n",
              "        vertical-align: top;\n",
              "    }\n",
              "\n",
              "    .dataframe thead th {\n",
              "        text-align: right;\n",
              "    }\n",
              "</style>\n",
              "<table border=\"1\" class=\"dataframe\">\n",
              "  <thead>\n",
              "    <tr style=\"text-align: right;\">\n",
              "      <th></th>\n",
              "      <th>text</th>\n",
              "      <th>polarity</th>\n",
              "    </tr>\n",
              "  </thead>\n",
              "  <tbody>\n",
              "    <tr>\n",
              "      <th>0</th>\n",
              "      <td>اول : نيو تغر شور صبح اعتياديه أختفاء صلص خير ...</td>\n",
              "      <td>neg</td>\n",
              "    </tr>\n",
              "    <tr>\n",
              "      <th>1</th>\n",
              "      <td>من محل شور ذات شعب تمز صلص قدم عها يمكن خير شو...</td>\n",
              "      <td>neg</td>\n",
              "    </tr>\n",
              "    <tr>\n",
              "      <th>2</th>\n",
              "      <td>دجج طزج حضر ممك على طلب لا يقم بعد تسخ تخذ بشر...</td>\n",
              "      <td>pos</td>\n",
              "    </tr>\n",
              "    <tr>\n",
              "      <th>3</th>\n",
              "      <td>فكم عرف رال كنغر كلا . فإن عرف ايض أكل مثل فيج...</td>\n",
              "      <td>pos</td>\n",
              "    </tr>\n",
              "    <tr>\n",
              "      <th>4</th>\n",
              "      <td>محو لي ان اقم طعم هشم بصف لسط عشت في ارد 24 عا...</td>\n",
              "      <td>neg</td>\n",
              "    </tr>\n",
              "    <tr>\n",
              "      <th>...</th>\n",
              "      <td>...</td>\n",
              "      <td>...</td>\n",
              "    </tr>\n",
              "    <tr>\n",
              "      <th>8359</th>\n",
              "      <td>منى عملو بطق خصة او ذهب عملاء دئم يكون لهم وضع...</td>\n",
              "      <td>pos</td>\n",
              "    </tr>\n",
              "    <tr>\n",
              "      <th>8360</th>\n",
              "      <td>شوي عند اطب شوي اكل بحا قبل مرة حلو نظافةةةةةة...</td>\n",
              "      <td>pos</td>\n",
              "    </tr>\n",
              "    <tr>\n",
              "      <th>8361</th>\n",
              "      <td>طعم متز غيه ، من نحي جهز طعم ، ويض من نحي أكل ...</td>\n",
              "      <td>pos</td>\n",
              "    </tr>\n",
              "    <tr>\n",
              "      <th>8362</th>\n",
              "      <td>جين عند سعة 10 ليل افى احد برع شوفل طال فضي جل...</td>\n",
              "      <td>neg</td>\n",
              "    </tr>\n",
              "    <tr>\n",
              "      <th>8363</th>\n",
              "      <td>اذا كان الل شرع جري اوو اشء الل ولل انه خبل</td>\n",
              "      <td>pos</td>\n",
              "    </tr>\n",
              "  </tbody>\n",
              "</table>\n",
              "<p>8364 rows × 2 columns</p>\n",
              "</div>\n",
              "      <button class=\"colab-df-convert\" onclick=\"convertToInteractive('df-79bf498f-024b-467d-b9cb-2c8062fb2fec')\"\n",
              "              title=\"Convert this dataframe to an interactive table.\"\n",
              "              style=\"display:none;\">\n",
              "        \n",
              "  <svg xmlns=\"http://www.w3.org/2000/svg\" height=\"24px\"viewBox=\"0 0 24 24\"\n",
              "       width=\"24px\">\n",
              "    <path d=\"M0 0h24v24H0V0z\" fill=\"none\"/>\n",
              "    <path d=\"M18.56 5.44l.94 2.06.94-2.06 2.06-.94-2.06-.94-.94-2.06-.94 2.06-2.06.94zm-11 1L8.5 8.5l.94-2.06 2.06-.94-2.06-.94L8.5 2.5l-.94 2.06-2.06.94zm10 10l.94 2.06.94-2.06 2.06-.94-2.06-.94-.94-2.06-.94 2.06-2.06.94z\"/><path d=\"M17.41 7.96l-1.37-1.37c-.4-.4-.92-.59-1.43-.59-.52 0-1.04.2-1.43.59L10.3 9.45l-7.72 7.72c-.78.78-.78 2.05 0 2.83L4 21.41c.39.39.9.59 1.41.59.51 0 1.02-.2 1.41-.59l7.78-7.78 2.81-2.81c.8-.78.8-2.07 0-2.86zM5.41 20L4 18.59l7.72-7.72 1.47 1.35L5.41 20z\"/>\n",
              "  </svg>\n",
              "      </button>\n",
              "      \n",
              "  <style>\n",
              "    .colab-df-container {\n",
              "      display:flex;\n",
              "      flex-wrap:wrap;\n",
              "      gap: 12px;\n",
              "    }\n",
              "\n",
              "    .colab-df-convert {\n",
              "      background-color: #E8F0FE;\n",
              "      border: none;\n",
              "      border-radius: 50%;\n",
              "      cursor: pointer;\n",
              "      display: none;\n",
              "      fill: #1967D2;\n",
              "      height: 32px;\n",
              "      padding: 0 0 0 0;\n",
              "      width: 32px;\n",
              "    }\n",
              "\n",
              "    .colab-df-convert:hover {\n",
              "      background-color: #E2EBFA;\n",
              "      box-shadow: 0px 1px 2px rgba(60, 64, 67, 0.3), 0px 1px 3px 1px rgba(60, 64, 67, 0.15);\n",
              "      fill: #174EA6;\n",
              "    }\n",
              "\n",
              "    [theme=dark] .colab-df-convert {\n",
              "      background-color: #3B4455;\n",
              "      fill: #D2E3FC;\n",
              "    }\n",
              "\n",
              "    [theme=dark] .colab-df-convert:hover {\n",
              "      background-color: #434B5C;\n",
              "      box-shadow: 0px 1px 3px 1px rgba(0, 0, 0, 0.15);\n",
              "      filter: drop-shadow(0px 1px 2px rgba(0, 0, 0, 0.3));\n",
              "      fill: #FFFFFF;\n",
              "    }\n",
              "  </style>\n",
              "\n",
              "      <script>\n",
              "        const buttonEl =\n",
              "          document.querySelector('#df-79bf498f-024b-467d-b9cb-2c8062fb2fec button.colab-df-convert');\n",
              "        buttonEl.style.display =\n",
              "          google.colab.kernel.accessAllowed ? 'block' : 'none';\n",
              "\n",
              "        async function convertToInteractive(key) {\n",
              "          const element = document.querySelector('#df-79bf498f-024b-467d-b9cb-2c8062fb2fec');\n",
              "          const dataTable =\n",
              "            await google.colab.kernel.invokeFunction('convertToInteractive',\n",
              "                                                     [key], {});\n",
              "          if (!dataTable) return;\n",
              "\n",
              "          const docLinkHtml = 'Like what you see? Visit the ' +\n",
              "            '<a target=\"_blank\" href=https://colab.research.google.com/notebooks/data_table.ipynb>data table notebook</a>'\n",
              "            + ' to learn more about interactive tables.';\n",
              "          element.innerHTML = '';\n",
              "          dataTable['output_type'] = 'display_data';\n",
              "          await google.colab.output.renderOutput(dataTable, element);\n",
              "          const docLink = document.createElement('div');\n",
              "          docLink.innerHTML = docLinkHtml;\n",
              "          element.appendChild(docLink);\n",
              "        }\n",
              "      </script>\n",
              "    </div>\n",
              "  </div>\n",
              "  "
            ]
          },
          "metadata": {},
          "execution_count": 26
        }
      ],
      "source": [
        "preprocessed_reviews"
      ]
    },
    {
      "cell_type": "markdown",
      "source": [
        "**feature Extraction**"
      ],
      "metadata": {
        "id": "lR4MZ2kKuKOG"
      }
    },
    {
      "cell_type": "code",
      "execution_count": null,
      "metadata": {
        "id": "_RIVzwwTjHIg"
      },
      "outputs": [],
      "source": [
        "def featureExtraction(data):\n",
        "    vectorizer= TfidfVectorizer(min_df=10, max_df=0.75, ngram_range=(1,3))\n",
        "    tfidf_data=vectorizer.fit_transform(data)\n",
        "    return tfidf_data"
      ]
    },
    {
      "cell_type": "code",
      "execution_count": null,
      "metadata": {
        "id": "Qb7HDkX7jHIg"
      },
      "outputs": [],
      "source": [
        "def learning(clf, x, y):\n",
        "    x_train, x_test, y_train, y_test=train_test_split(x,y, test_size=.4, random_state=43)\n",
        "    \n",
        "    classifier=clf()\n",
        "    classifier.fit(x_train, y_train)\n",
        "    predict= cross_val_predict(classifier, x_test, y_test, cv=10)\n",
        "    \n",
        "    scores= cross_val_score(classifier, x_test, y_test, cv=10)\n",
        "    \n",
        "    print(scores)\n",
        "    print(\"Accuracy of %s: %0.2f (+/- %0.2f)\"%(classifier,scores.mean(), scores.std()*2))\n",
        "    print(classification_report(y_test,predict))\n",
        "    "
      ]
    },
    {
      "cell_type": "code",
      "execution_count": null,
      "metadata": {
        "id": "3_QkR8FCjHIg"
      },
      "outputs": [],
      "source": [
        "def main(clf):\n",
        "    df=pd.read_csv(\"https://raw.githubusercontent.com/hadyelsahar/large-arabic-sentiment-analysis-resouces/a59d0a2ea9061483935309799904e8bfec0e8c57/datasets/RES1.csv\")\n",
        "    del df['user_id']\n",
        "    del df['restaurant_id']\n",
        "    preprocessed_reviews=prepareDatasets(df)\n",
        "    \n",
        "    data, target=preprocessed_reviews['text'],preprocessed_reviews['polarity']\n",
        "    \n",
        "    tfidf_data=featureExtraction(data)\n",
        "    \n",
        "    learning(clf, tfidf_data, target)"
      ]
    },
    {
      "cell_type": "code",
      "execution_count": null,
      "metadata": {
        "colab": {
          "base_uri": "https://localhost:8080/"
        },
        "id": "q3gE6FdRjHIh",
        "outputId": "c5c405fa-79f4-48ae-99dc-bea11830f508"
      },
      "outputs": [
        {
          "output_type": "stream",
          "name": "stdout",
          "text": [
            "[0.74925373 0.77910448 0.8        0.82985075 0.79402985 0.76716418\n",
            " 0.78742515 0.7994012  0.77245509 0.79341317]\n",
            "Accuracy of MultinomialNB(): 0.79 (+/- 0.04)\n",
            "              precision    recall  f1-score   support\n",
            "\n",
            "         neg       0.94      0.29      0.44       976\n",
            "         pos       0.77      0.99      0.87      2370\n",
            "\n",
            "    accuracy                           0.79      3346\n",
            "   macro avg       0.86      0.64      0.65      3346\n",
            "weighted avg       0.82      0.79      0.74      3346\n",
            "\n"
          ]
        }
      ],
      "source": [
        "main(MultinomialNB)"
      ]
    },
    {
      "cell_type": "code",
      "execution_count": null,
      "metadata": {
        "id": "eiJ2DT5XjHIh"
      },
      "outputs": [],
      "source": [
        "clfs=[MultinomialNB, BernoulliNB,LogisticRegression, SGDClassifier,SVC, LinearSVC, NuSVC]"
      ]
    },
    {
      "cell_type": "code",
      "execution_count": null,
      "metadata": {
        "colab": {
          "base_uri": "https://localhost:8080/"
        },
        "id": "CSwnJ6xOjHIh",
        "outputId": "73a04bc8-71ec-429d-8801-dddca014d1e3"
      },
      "outputs": [
        {
          "output_type": "stream",
          "name": "stdout",
          "text": [
            "[0.74925373 0.77910448 0.8        0.82985075 0.79402985 0.76716418\n",
            " 0.78742515 0.7994012  0.77245509 0.79341317]\n",
            "Accuracy of MultinomialNB(): 0.79 (+/- 0.04)\n",
            "              precision    recall  f1-score   support\n",
            "\n",
            "         neg       0.94      0.29      0.44       976\n",
            "         pos       0.77      0.99      0.87      2370\n",
            "\n",
            "    accuracy                           0.79      3346\n",
            "   macro avg       0.86      0.64      0.65      3346\n",
            "weighted avg       0.82      0.79      0.74      3346\n",
            "\n",
            "[0.75820896 0.75223881 0.76119403 0.7641791  0.73731343 0.78208955\n",
            " 0.80538922 0.77844311 0.79041916 0.75748503]\n",
            "Accuracy of BernoulliNB(): 0.77 (+/- 0.04)\n",
            "              precision    recall  f1-score   support\n",
            "\n",
            "         neg       0.63      0.50      0.56       976\n",
            "         pos       0.81      0.88      0.84      2370\n",
            "\n",
            "    accuracy                           0.77      3346\n",
            "   macro avg       0.72      0.69      0.70      3346\n",
            "weighted avg       0.76      0.77      0.76      3346\n",
            "\n",
            "[0.78507463 0.8        0.82686567 0.84776119 0.8238806  0.82985075\n",
            " 0.84131737 0.83532934 0.82035928 0.82335329]\n",
            "Accuracy of LogisticRegression(): 0.82 (+/- 0.04)\n",
            "              precision    recall  f1-score   support\n",
            "\n",
            "         neg       0.89      0.45      0.60       976\n",
            "         pos       0.81      0.98      0.89      2370\n",
            "\n",
            "    accuracy                           0.82      3346\n",
            "   macro avg       0.85      0.71      0.74      3346\n",
            "weighted avg       0.83      0.82      0.80      3346\n",
            "\n",
            "[0.7761194  0.82985075 0.77910448 0.84776119 0.8358209  0.8119403\n",
            " 0.82335329 0.86826347 0.82335329 0.81137725]\n",
            "Accuracy of SGDClassifier(): 0.82 (+/- 0.05)\n",
            "              precision    recall  f1-score   support\n",
            "\n",
            "         neg       0.73      0.63      0.68       976\n",
            "         pos       0.86      0.90      0.88      2370\n",
            "\n",
            "    accuracy                           0.82      3346\n",
            "   macro avg       0.79      0.77      0.78      3346\n",
            "weighted avg       0.82      0.82      0.82      3346\n",
            "\n",
            "[0.78507463 0.80298507 0.84179104 0.84776119 0.82686567 0.8358209\n",
            " 0.84431138 0.84131737 0.83532934 0.83233533]\n",
            "Accuracy of SVC(): 0.83 (+/- 0.04)\n",
            "              precision    recall  f1-score   support\n",
            "\n",
            "         neg       0.89      0.48      0.62       976\n",
            "         pos       0.82      0.97      0.89      2370\n",
            "\n",
            "    accuracy                           0.83      3346\n",
            "   macro avg       0.85      0.73      0.75      3346\n",
            "weighted avg       0.84      0.83      0.81      3346\n",
            "\n",
            "[0.79701493 0.8238806  0.82089552 0.85671642 0.83283582 0.82686567\n",
            " 0.85329341 0.87125749 0.84431138 0.84730539]\n",
            "Accuracy of LinearSVC(): 0.84 (+/- 0.04)\n",
            "              precision    recall  f1-score   support\n",
            "\n",
            "         neg       0.77      0.63      0.69       976\n",
            "         pos       0.86      0.92      0.89      2370\n",
            "\n",
            "    accuracy                           0.84      3346\n",
            "   macro avg       0.82      0.78      0.79      3346\n",
            "weighted avg       0.83      0.84      0.83      3346\n",
            "\n",
            "[0.78507463 0.80597015 0.84776119 0.85373134 0.8238806  0.84179104\n",
            " 0.84431138 0.84730539 0.83832335 0.83532934]\n",
            "Accuracy of NuSVC(): 0.83 (+/- 0.04)\n",
            "              precision    recall  f1-score   support\n",
            "\n",
            "         neg       0.88      0.49      0.63       976\n",
            "         pos       0.82      0.97      0.89      2370\n",
            "\n",
            "    accuracy                           0.83      3346\n",
            "   macro avg       0.85      0.73      0.76      3346\n",
            "weighted avg       0.84      0.83      0.82      3346\n",
            "\n"
          ]
        }
      ],
      "source": [
        "for clf in clfs:\n",
        "    main(clf)"
      ]
    }
  ],
  "metadata": {
    "kernelspec": {
      "display_name": "Python 3",
      "language": "python",
      "name": "python3"
    },
    "language_info": {
      "codemirror_mode": {
        "name": "ipython",
        "version": 3
      },
      "file_extension": ".py",
      "mimetype": "text/x-python",
      "name": "python",
      "nbconvert_exporter": "python",
      "pygments_lexer": "ipython3",
      "version": "3.7.4"
    },
    "colab": {
      "name": " Text Classification Arabic Sentiment Analysis.ipynb",
      "provenance": [],
      "collapsed_sections": [],
      "include_colab_link": true
    },
    "accelerator": "GPU"
  },
  "nbformat": 4,
  "nbformat_minor": 0
}